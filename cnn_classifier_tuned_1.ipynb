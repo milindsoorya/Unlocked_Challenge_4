{
 "cells": [
  {
   "cell_type": "code",
   "execution_count": null,
   "id": "7002e145",
   "metadata": {},
   "outputs": [],
   "source": [
    "#import data manipulation packages \n",
    "import pandas as pd \n",
    "import numpy as np \n",
    "import os\n",
    "import cv2\n",
    "import matplotlib.pyplot as plt\n",
    "import warnings"
   ]
  },
  {
   "cell_type": "code",
   "execution_count": null,
   "id": "2b8096c8",
   "metadata": {},
   "outputs": [],
   "source": [
    "#import deep learning tools \n",
    "import tensorflow as tf\n",
    "from tensorflow import keras\n",
    "from tensorflow.keras import layers\n",
    "from tensorflow.keras.preprocessing.image import ImageDataGenerator\n",
    "import keras_tuner as kt"
   ]
  },
  {
   "cell_type": "code",
   "execution_count": null,
   "id": "6dce065f",
   "metadata": {},
   "outputs": [],
   "source": [
    "print(\"Num GPUs Available: \", len(tf.config.list_physical_devices('GPU')))"
   ]
  },
  {
   "cell_type": "code",
   "execution_count": null,
   "id": "facd5ec0",
   "metadata": {},
   "outputs": [],
   "source": [
    "# Set the seed value for experiment reproducibility.\n",
    "seed = 1842\n",
    "tf.random.set_seed(seed)\n",
    "np.random.seed(seed)\n",
    "# Turn off warnings for cleaner looking notebook\n",
    "warnings.simplefilter('ignore')"
   ]
  },
  {
   "cell_type": "markdown",
   "id": "4a3547d3",
   "metadata": {},
   "source": [
    "# I. Load in the Data"
   ]
  },
  {
   "cell_type": "code",
   "execution_count": null,
   "id": "58a54c5a-b110-4fcc-86c4-fa83cdb8220d",
   "metadata": {},
   "outputs": [],
   "source": [
    "#define image dataset \n",
    "# Data Augmentation\n",
    "image_generator = ImageDataGenerator(\n",
    "        rescale=1/255,\n",
    "        rotation_range=10, # rotation\n",
    "        width_shift_range=0.2, # horizontal shift\n",
    "        height_shift_range=0.2, # vertical shift\n",
    "        zoom_range=0.2, # zoom\n",
    "        horizontal_flip=True, # horizontal flip\n",
    "        brightness_range=[0.2,1.2],# brightness\n",
    "        validation_split=0.2,) \n",
    "\n",
    "#Train & Validation Split \n",
    "train_dataset = image_generator.flow_from_directory(batch_size=32,\n",
    "                                                 directory='data_cleaned/Train',\n",
    "                                                 shuffle=True,\n",
    "                                                 target_size=(224, 224), \n",
    "                                                 subset=\"training\",\n",
    "                                                 class_mode='categorical')\n",
    "\n",
    "validation_dataset = image_generator.flow_from_directory(batch_size=32,\n",
    "                                                 directory='data_cleaned/Train',\n",
    "                                                 shuffle=True,\n",
    "                                                 target_size=(224, 224), \n",
    "                                                 subset=\"validation\",\n",
    "                                                 class_mode='categorical')\n",
    "\n",
    "#Organize data for our predictions \n",
    "image_generator_submission = ImageDataGenerator(rescale=1/255) \n",
    "submission = image_generator_submission.flow_from_directory(\n",
    "                                                 directory='data_cleaned/scraped_images',\n",
    "                                                 shuffle=False,\n",
    "                                                 target_size=(224, 224), \n",
    "                                                 class_mode=None)"
   ]
  },
  {
   "cell_type": "markdown",
   "id": "8b6e4ee6",
   "metadata": {
    "tags": []
   },
   "source": [
    "# II. Build First CNN"
   ]
  },
  {
   "cell_type": "code",
   "execution_count": null,
   "id": "bb4b6a79-a8fa-41bc-99f2-d6a325c0b84c",
   "metadata": {},
   "outputs": [],
   "source": [
    "model = keras.models.Sequential([\n",
    "    keras.layers.Conv2D(32, (3, 3), activation='relu', input_shape = [224, 224,3]),\n",
    "    keras.layers.MaxPooling2D(),\n",
    "    keras.layers.Conv2D(64, (2, 2), activation='relu'),\n",
    "    keras.layers.MaxPooling2D(),\n",
    "    keras.layers.Conv2D(64, (2, 2), activation='relu'),\n",
    "    keras.layers.Flatten(),\n",
    "    keras.layers.Dense(100, activation='relu'),\n",
    "    keras.layers.Dense(2, activation ='softmax')\n",
    "])"
   ]
  },
  {
   "cell_type": "code",
   "execution_count": null,
   "id": "83abd157-f04b-455b-9d91-90c17c27057a",
   "metadata": {},
   "outputs": [],
   "source": [
    "model.compile(optimizer='adam',\n",
    "             loss = 'binary_crossentropy',\n",
    "             metrics=['accuracy'])\n",
    "\n",
    "callback = keras.callbacks.EarlyStopping(monitor='val_loss',\n",
    "                                            patience=3,\n",
    "                                            restore_best_weights=True)"
   ]
  },
  {
   "cell_type": "code",
   "execution_count": null,
   "id": "767cda25-847a-4523-adae-dc0656e6ed63",
   "metadata": {
    "tags": []
   },
   "outputs": [],
   "source": [
    "# model.fit(train_dataset, epochs=20, validation_data=validation_dataset, callbacks=callback)"
   ]
  },
  {
   "cell_type": "code",
   "execution_count": null,
   "id": "1c508b0e-c8a4-4844-a514-8925f9645b20",
   "metadata": {},
   "outputs": [],
   "source": [
    "# loss, accuracy = model.evaluate(validation_dataset)\n",
    "# print(\"Loss: \", loss)\n",
    "# print(\"Accuracy: \", accuracy)"
   ]
  },
  {
   "cell_type": "code",
   "execution_count": null,
   "id": "c1ead2da-6311-42f5-b9e0-1eb53739fe70",
   "metadata": {},
   "outputs": [],
   "source": [
    "# model.save('cnn-model')"
   ]
  },
  {
   "cell_type": "code",
   "execution_count": null,
   "id": "5ffe7d50-98f1-4e67-9b94-6304f2d48dc9",
   "metadata": {},
   "outputs": [],
   "source": [
    "# model = keras.models.load_model('cnn-model')"
   ]
  },
  {
   "cell_type": "code",
   "execution_count": null,
   "id": "dcb36899-1a47-4bb9-b256-55984d8ee37d",
   "metadata": {},
   "outputs": [],
   "source": [
    "# loss, accuracy = model.evaluate(validation_dataset)\n",
    "# print(\"Loss: \", loss)\n",
    "# print(\"Accuracy: \", accuracy)"
   ]
  },
  {
   "cell_type": "code",
   "execution_count": null,
   "id": "5bec30fa-8134-4630-860c-b837c3aee6b0",
   "metadata": {
    "tags": []
   },
   "outputs": [],
   "source": [
    "# model.predict(submission)"
   ]
  },
  {
   "cell_type": "markdown",
   "id": "2ca2d022-b2bd-4188-8b0e-032f20ee46e4",
   "metadata": {},
   "source": [
    "## III Keras tuner - Finding best model architecture"
   ]
  },
  {
   "cell_type": "code",
   "execution_count": null,
   "id": "b9436019-32a5-48e7-9f62-87a1adce9155",
   "metadata": {
    "tags": []
   },
   "outputs": [],
   "source": [
    "#!pip install -U keras-tuner"
   ]
  },
  {
   "cell_type": "code",
   "execution_count": null,
   "id": "15fc7a93-480a-4c2e-9aac-5d198fa2f989",
   "metadata": {},
   "outputs": [],
   "source": [
    "# Creating a single dataset for training and validation\n",
    "\n",
    "final_data = []\n",
    "final_labels = []\n",
    "\n",
    "for i in range(0,len(train_dataset)):\n",
    "    batch = train_dataset[i]\n",
    "    for j in range(len(batch[0])):\n",
    "        final_data.append(batch[0][j])\n",
    "        final_labels.append(batch[1][j])\n",
    "\n",
    "val_data = []\n",
    "val_labels = []\n",
    "\n",
    "for i in range(0,len(validation_dataset)):\n",
    "    batch = validation_dataset[i]\n",
    "    for j in range(len(batch[0])):\n",
    "        val_data.append(batch[0][j])\n",
    "        val_labels.append(batch[1][j])\n",
    "        \n",
    "\n",
    "        \n",
    "final_data = np.array(final_data)\n",
    "final_labels = np.array(final_labels)\n",
    "val_data = np.array(val_data)\n",
    "val_labels = np.array(val_labels)"
   ]
  },
  {
   "cell_type": "code",
   "execution_count": null,
   "id": "b53175a2-3ff8-4bfa-ae11-53692dcac845",
   "metadata": {},
   "outputs": [],
   "source": [
    "def build_model(hp):\n",
    "    # create model object\n",
    "    model = keras.Sequential([\n",
    "    #adding first convolutional layer    \n",
    "    keras.layers.Conv2D(\n",
    "        #adding filter \n",
    "        filters=hp.Int('conv_1_filter', min_value=32, max_value=128, step=16),\n",
    "        # adding filter size or kernel size\n",
    "        kernel_size=hp.Choice('conv_1_kernel', values = [3,5]),\n",
    "        #activation function\n",
    "        activation='relu',\n",
    "        input_shape=(224,224,3)),\n",
    "    # adding second convolutional layer \n",
    "    keras.layers.Conv2D(\n",
    "        #adding filter \n",
    "        filters=hp.Int('conv_2_filter', min_value=32, max_value=64, step=16),\n",
    "        #adding filter size or kernel size\n",
    "        kernel_size=hp.Choice('conv_2_kernel', values = [3,5]),\n",
    "        #activation function\n",
    "        activation='relu'\n",
    "    ),\n",
    "    # adding flatten layer    \n",
    "    keras.layers.Flatten(),\n",
    "    # adding dense layer    \n",
    "    keras.layers.Dense(\n",
    "        units=hp.Int('dense_1_units', min_value=32, max_value=128, step=16),\n",
    "        activation='relu'\n",
    "    ),\n",
    "    # output layer    \n",
    "    keras.layers.Dense(2, activation='softmax')\n",
    "    ])\n",
    "    #compilation of model\n",
    "    model.compile(optimizer=keras.optimizers.Adam(hp.Choice('learning_rate', values=[1e-2, 1e-3])),\n",
    "              loss='binary_crossentropy',\n",
    "              metrics=['accuracy'])\n",
    "    return model"
   ]
  },
  {
   "cell_type": "code",
   "execution_count": null,
   "id": "439b76b8-f05d-452e-85c6-bc10c58e5c22",
   "metadata": {},
   "outputs": [],
   "source": [
    "#importing random search\n",
    "from kerastuner import RandomSearch\n",
    "#creating randomsearch object\n",
    "tuner = RandomSearch(build_model, objective='val_accuracy', max_trials = 5)"
   ]
  },
  {
   "cell_type": "code",
   "execution_count": null,
   "id": "5cfdd6ae-877b-4e0f-90f3-0ae33938c88c",
   "metadata": {},
   "outputs": [],
   "source": [
    "stop_early = tf.keras.callbacks.EarlyStopping(monitor='val_loss', patience=5)\n",
    "# Perform hypertuning\n",
    "tuner.search(final_data, final_labels, validation_data=(val_data, val_labels), epochs=20, callbacks=[stop_early])"
   ]
  },
  {
   "cell_type": "code",
   "execution_count": null,
   "id": "afb7a9d6-880a-400c-8465-924f928e9312",
   "metadata": {},
   "outputs": [],
   "source": [
    "model=tuner.get_best_models(num_models=1)[0]\n",
    "#summary of best model\n",
    "model.summary()"
   ]
  },
  {
   "cell_type": "code",
   "execution_count": null,
   "id": "8bf545e4-bbf8-4220-883f-eacae1b692fa",
   "metadata": {},
   "outputs": [],
   "source": [
    "model.fit(train_dataset, validation_data=validation_dataset, epochs=10, validation_split=0.2)"
   ]
  },
  {
   "cell_type": "code",
   "execution_count": null,
   "id": "28e33521-4de7-42f6-9cfe-6509f70c291a",
   "metadata": {},
   "outputs": [],
   "source": [
    "file_name = 'CNN-tuned'\n",
    "model.save('file_name')"
   ]
  },
  {
   "cell_type": "markdown",
   "id": "92eb2485-0f8e-49ae-b004-5bb029de6861",
   "metadata": {},
   "source": [
    "## Create Sample Submission "
   ]
  },
  {
   "cell_type": "code",
   "execution_count": null,
   "id": "1a4077a0-6104-4757-92bb-2940047b36ac",
   "metadata": {},
   "outputs": [],
   "source": [
    "onlyfiles = [f.split('.')[0] for f in os.listdir(os.path.join('data_cleaned/scraped_images/image_files')) if os.path.isfile(os.path.join(os.path.join('data_cleaned/scraped_images/image_files'), f))]\n",
    "submission_df = pd.DataFrame(onlyfiles, columns =['images'])\n",
    "submission_df[['la_eterna', 'other_flower']] = model.predict(submission)\n",
    "submission_df.head()"
   ]
  },
  {
   "cell_type": "code",
   "execution_count": null,
   "id": "d8ee5745-c5ec-497b-8295-a2741d184816",
   "metadata": {},
   "outputs": [],
   "source": [
    "submission_df.to_csv('submission_file_tuned_1.csv', index = False)"
   ]
  }
 ],
 "metadata": {
  "kernelspec": {
   "display_name": "Python 3 (ipykernel)",
   "language": "python",
   "name": "python3"
  },
  "language_info": {
   "codemirror_mode": {
    "name": "ipython",
    "version": 3
   },
   "file_extension": ".py",
   "mimetype": "text/x-python",
   "name": "python",
   "nbconvert_exporter": "python",
   "pygments_lexer": "ipython3",
   "version": "3.10.4"
  }
 },
 "nbformat": 4,
 "nbformat_minor": 5
}
