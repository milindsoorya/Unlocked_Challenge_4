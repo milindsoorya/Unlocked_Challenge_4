{
 "cells": [
  {
   "cell_type": "code",
   "execution_count": 1,
   "id": "7002e145",
   "metadata": {},
   "outputs": [],
   "source": [
    "#import data manipulation packages \n",
    "import pandas as pd \n",
    "import numpy as np \n",
    "import os\n",
    "import cv2\n",
    "import matplotlib.pyplot as plt\n",
    "import warnings"
   ]
  },
  {
   "cell_type": "code",
   "execution_count": 2,
   "id": "2b8096c8",
   "metadata": {},
   "outputs": [],
   "source": [
    "import tensorflow as tf\n",
    "from tensorflow import keras\n",
    "from tensorflow.keras import layers\n",
    "from tensorflow.keras.preprocessing.image import ImageDataGenerator\n",
    "import keras_tuner as kt"
   ]
  },
  {
   "cell_type": "code",
   "execution_count": 3,
   "id": "6dce065f",
   "metadata": {},
   "outputs": [
    {
     "name": "stdout",
     "output_type": "stream",
     "text": [
      "Num GPUs Available:  1\n"
     ]
    }
   ],
   "source": [
    "print(\"Num GPUs Available: \", len(tf.config.list_physical_devices('GPU')))"
   ]
  },
  {
   "cell_type": "code",
   "execution_count": 4,
   "id": "facd5ec0",
   "metadata": {},
   "outputs": [],
   "source": [
    "# Set the seed value for experiment reproducibility.\n",
    "seed = 1842\n",
    "tf.random.set_seed(seed)\n",
    "np.random.seed(seed)\n",
    "# Turn off warnings for cleaner looking notebook\n",
    "warnings.simplefilter('ignore')"
   ]
  },
  {
   "cell_type": "markdown",
   "id": "4a3547d3",
   "metadata": {},
   "source": [
    "# I. Load in the Data"
   ]
  },
  {
   "cell_type": "code",
   "execution_count": 5,
   "id": "58a54c5a-b110-4fcc-86c4-fa83cdb8220d",
   "metadata": {},
   "outputs": [
    {
     "name": "stdout",
     "output_type": "stream",
     "text": [
      "Found 430 images belonging to 2 classes.\n",
      "Found 106 images belonging to 2 classes.\n",
      "Found 100 images belonging to 1 classes.\n"
     ]
    }
   ],
   "source": [
    "#define image dataset \n",
    "# Data Augmentation\n",
    "image_generator = ImageDataGenerator(\n",
    "        rescale=1/255,\n",
    "        rotation_range=10, # rotation\n",
    "        width_shift_range=0.2, # horizontal shift\n",
    "        height_shift_range=0.2, # vertical shift\n",
    "        zoom_range=0.2, # zoom\n",
    "        horizontal_flip=True, # horizontal flip\n",
    "        brightness_range=[0.2,1.2],# brightness\n",
    "        validation_split=0.2,) \n",
    "\n",
    "#Train & Validation Split \n",
    "train_dataset = image_generator.flow_from_directory(batch_size=32,\n",
    "                                                 directory='data_cleaned/Train',\n",
    "                                                 shuffle=True,\n",
    "                                                 target_size=(224, 224), \n",
    "                                                 subset=\"training\",\n",
    "                                                 class_mode='categorical')\n",
    "\n",
    "validation_dataset = image_generator.flow_from_directory(batch_size=32,\n",
    "                                                 directory='data_cleaned/Train',\n",
    "                                                 shuffle=True,\n",
    "                                                 target_size=(224, 224), \n",
    "                                                 subset=\"validation\",\n",
    "                                                 class_mode='categorical')\n",
    "\n",
    "#Organize data for our predictions \n",
    "image_generator_submission = ImageDataGenerator(rescale=1/255) \n",
    "submission = image_generator_submission.flow_from_directory(\n",
    "                                                 directory='data_cleaned/scraped_images',\n",
    "                                                 shuffle=False,\n",
    "                                                 target_size=(224, 224), \n",
    "                                                 class_mode=None)"
   ]
  },
  {
   "cell_type": "markdown",
   "id": "8b6e4ee6",
   "metadata": {
    "tags": []
   },
   "source": [
    "# II. Build First CNN"
   ]
  },
  {
   "cell_type": "code",
   "execution_count": 6,
   "id": "bb4b6a79-a8fa-41bc-99f2-d6a325c0b84c",
   "metadata": {},
   "outputs": [
    {
     "name": "stdout",
     "output_type": "stream",
     "text": [
      "Metal device set to: Apple M1\n"
     ]
    },
    {
     "name": "stderr",
     "output_type": "stream",
     "text": [
      "2022-05-31 12:55:38.943187: I tensorflow/core/common_runtime/pluggable_device/pluggable_device_factory.cc:305] Could not identify NUMA node of platform GPU ID 0, defaulting to 0. Your kernel may not have been built with NUMA support.\n",
      "2022-05-31 12:55:38.943333: I tensorflow/core/common_runtime/pluggable_device/pluggable_device_factory.cc:271] Created TensorFlow device (/job:localhost/replica:0/task:0/device:GPU:0 with 0 MB memory) -> physical PluggableDevice (device: 0, name: METAL, pci bus id: <undefined>)\n"
     ]
    }
   ],
   "source": [
    "model = keras.models.Sequential([\n",
    "    keras.layers.Conv2D(32, (3, 3), activation='relu', input_shape = [224, 224,3]),\n",
    "    keras.layers.MaxPooling2D(),\n",
    "    keras.layers.Conv2D(64, (2, 2), activation='relu'),\n",
    "    keras.layers.MaxPooling2D(),\n",
    "    keras.layers.Conv2D(64, (2, 2), activation='relu'),\n",
    "    keras.layers.Flatten(),\n",
    "    keras.layers.Dense(100, activation='relu'),\n",
    "    keras.layers.Dense(2, activation ='softmax')\n",
    "])"
   ]
  },
  {
   "cell_type": "code",
   "execution_count": 7,
   "id": "83abd157-f04b-455b-9d91-90c17c27057a",
   "metadata": {},
   "outputs": [],
   "source": [
    "model.compile(optimizer='adam',\n",
    "             loss = 'binary_crossentropy',\n",
    "             metrics=['accuracy'])\n",
    "\n",
    "callback = keras.callbacks.EarlyStopping(monitor='val_loss',\n",
    "                                            patience=3,\n",
    "                                            restore_best_weights=True)"
   ]
  },
  {
   "cell_type": "code",
   "execution_count": 8,
   "id": "767cda25-847a-4523-adae-dc0656e6ed63",
   "metadata": {
    "tags": []
   },
   "outputs": [],
   "source": [
    "model.fit(train_dataset, epochs=20, validation_data=validation_dataset, callbacks=callback)"
   ]
  },
  {
   "cell_type": "code",
   "execution_count": 9,
   "id": "1c508b0e-c8a4-4844-a514-8925f9645b20",
   "metadata": {},
   "outputs": [],
   "source": [
    "loss, accuracy = model.evaluate(validation_dataset)\n",
    "print(\"Loss: \", loss)\n",
    "print(\"Accuracy: \", accuracy)"
   ]
  },
  {
   "cell_type": "code",
   "execution_count": 10,
   "id": "c1ead2da-6311-42f5-b9e0-1eb53739fe70",
   "metadata": {},
   "outputs": [],
   "source": [
    "model.save('cnn-model')"
   ]
  },
  {
   "cell_type": "code",
   "execution_count": 11,
   "id": "5ffe7d50-98f1-4e67-9b94-6304f2d48dc9",
   "metadata": {},
   "outputs": [],
   "source": [
    "model = keras.models.load_model('cnn-model')"
   ]
  },
  {
   "cell_type": "code",
   "execution_count": 12,
   "id": "dcb36899-1a47-4bb9-b256-55984d8ee37d",
   "metadata": {},
   "outputs": [],
   "source": [
    "loss, accuracy = model.evaluate(validation_dataset)\n",
    "print(\"Loss: \", loss)\n",
    "print(\"Accuracy: \", accuracy)"
   ]
  },
  {
   "cell_type": "code",
   "execution_count": 13,
   "id": "5bec30fa-8134-4630-860c-b837c3aee6b0",
   "metadata": {
    "tags": []
   },
   "outputs": [],
   "source": [
    "model.predict(submission)"
   ]
  },
  {
   "cell_type": "markdown",
   "id": "92eb2485-0f8e-49ae-b004-5bb029de6861",
   "metadata": {},
   "source": [
    "## Create Sample Submission "
   ]
  },
  {
   "cell_type": "code",
   "execution_count": null,
   "id": "1a4077a0-6104-4757-92bb-2940047b36ac",
   "metadata": {},
   "outputs": [],
   "source": [
    "onlyfiles = [f.split('.')[0] for f in os.listdir(os.path.join('data_cleaned/scraped_images/image_files')) if os.path.isfile(os.path.join(os.path.join('data_cleaned/scraped_images/image_files'), f))]\n",
    "submission_df = pd.DataFrame(onlyfiles, columns =['images'])\n",
    "submission_df[['la_eterna', 'other_flower']] = h_model.predict(submission)\n",
    "submission_df.head()"
   ]
  },
  {
   "cell_type": "code",
   "execution_count": null,
   "id": "d8ee5745-c5ec-497b-8295-a2741d184816",
   "metadata": {},
   "outputs": [],
   "source": [
    "submission_df.to_csv('submission_file.csv', index = False)"
   ]
  }
 ],
 "metadata": {
  "kernelspec": {
   "display_name": "Python 3 (ipykernel)",
   "language": "python",
   "name": "python3"
  },
  "language_info": {
   "codemirror_mode": {
    "name": "ipython",
    "version": 3
   },
   "file_extension": ".py",
   "mimetype": "text/x-python",
   "name": "python",
   "nbconvert_exporter": "python",
   "pygments_lexer": "ipython3",
   "version": "3.10.4"
  }
 },
 "nbformat": 4,
 "nbformat_minor": 5
}
